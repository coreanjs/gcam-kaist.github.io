{
  "cells": [
    {
      "cell_type": "raw",
      "metadata": {},
      "source": [
        "---\n",
        "title: \"About\"\n",
        "image: ./img/iam_kaist_logo.png\n",
        "format:\n",
        "  html:\n",
        "    css: style.css\n",
        "about: \n",
        "  template: jolla\n",
        "  links :\n",
        "    - icon: github\n",
        "      text: github\n",
        "      href: https://github.com/GCAM-KAIST\n",
        "---"
      ],
      "id": "9b57ad6e"
    },
    {
      "cell_type": "markdown",
      "metadata": {},
      "source": [
        "# IAM Powerhouse \\@ KAIST\n",
        "\n",
        "\n",
        "```{css, echo = FALSE}\n",
        ".justify {\n",
        "  text-align: justify !important\n",
        "}\n",
        "```\n",
        "\n",
        "\n",
        "::: {layout=\"[30,70]\"}\n",
        "\n",
        "::: column\n",
        "![](./img/iam_kaist_logo.png)\n",
        ":::\n",
        "\n",
        "::: column\n",
        "**Field of Study**\n",
        "\n",
        "**Education**\n",
        "\n",
        "**Major Career**\n",
        "\n",
        "**Services**\n",
        "\n",
        "**Awards**\n",
        ":::\n",
        ":::\n",
        "\n",
        "# Professor\n",
        "\n",
        "Jiyong Eom\n",
        "\n",
        "# Students"
      ],
      "id": "ad793b04"
    }
  ],
  "metadata": {
    "kernelspec": {
      "display_name": "Python 3",
      "language": "python",
      "name": "python3"
    }
  },
  "nbformat": 4,
  "nbformat_minor": 5
}